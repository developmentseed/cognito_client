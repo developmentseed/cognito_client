{
 "cells": [
  {
   "cell_type": "code",
   "execution_count": 1,
   "id": "129b20d2",
   "metadata": {},
   "outputs": [],
   "source": [
    "from cognito_client import CognitoClient"
   ]
  },
  {
   "cell_type": "code",
   "execution_count": 2,
   "id": "5a0bf6d9",
   "metadata": {},
   "outputs": [
    {
     "name": "stdout",
     "output_type": "stream",
     "text": [
      "Username: aimee\n"
     ]
    }
   ],
   "source": [
    "# Setup client (get configuration)\n",
    "client = CognitoClient()"
   ]
  },
  {
   "cell_type": "code",
   "execution_count": 3,
   "id": "8c8da924",
   "metadata": {},
   "outputs": [
    {
     "name": "stdout",
     "output_type": "stream",
     "text": [
      "········\n"
     ]
    }
   ],
   "source": [
    "# Login (get password, send to Cognito)\n",
    "_ = client.login()"
   ]
  },
  {
   "cell_type": "code",
   "execution_count": 4,
   "id": "1ac6d5ab",
   "metadata": {},
   "outputs": [
    {
     "data": {
      "text/plain": [
       "{'sub': 'e1799242-e8db-43cf-a62b-2f291451e8f5',\n",
       " 'cognito:groups': ['vedaDataAccess'],\n",
       " 'iss': 'https://cognito-idp.us-west-2.amazonaws.com/us-west-2_OJVQQhBQQ',\n",
       " 'client_id': '40b2chbsilikn0i36po0q0fpk',\n",
       " 'origin_jti': '7ab76f31-7554-4c24-9483-63d93f33e39d',\n",
       " 'event_id': '68754779-7498-48fb-b9b6-b696d5d26bb5',\n",
       " 'token_use': 'access',\n",
       " 'scope': 'aws.cognito.signin.user.admin',\n",
       " 'auth_time': 1666809350,\n",
       " 'exp': 1666812950,\n",
       " 'iat': 1666809350,\n",
       " 'jti': 'aa431d59-aff8-4361-ae94-9189ff9992db',\n",
       " 'username': 'aimee'}"
      ]
     },
     "execution_count": 4,
     "metadata": {},
     "output_type": "execute_result"
    }
   ],
   "source": [
    "import jwt\n",
    "# Examine the access token\n",
    "jwt.decode(client.access_token, options={\"verify_signature\": False})"
   ]
  },
  {
   "cell_type": "code",
   "execution_count": 5,
   "id": "708f06b8",
   "metadata": {},
   "outputs": [
    {
     "data": {
      "text/plain": [
       "{'sub': 'e1799242-e8db-43cf-a62b-2f291451e8f5',\n",
       " 'cognito:groups': ['vedaDataAccess'],\n",
       " 'email_verified': True,\n",
       " 'iss': 'https://cognito-idp.us-west-2.amazonaws.com/us-west-2_OJVQQhBQQ',\n",
       " 'cognito:username': 'aimee',\n",
       " 'origin_jti': '7ab76f31-7554-4c24-9483-63d93f33e39d',\n",
       " 'cognito:roles': ['arn:aws:iam::853558080719:role/vedaDataAccessRole'],\n",
       " 'aud': '40b2chbsilikn0i36po0q0fpk',\n",
       " 'event_id': '68754779-7498-48fb-b9b6-b696d5d26bb5',\n",
       " 'token_use': 'id',\n",
       " 'auth_time': 1666809350,\n",
       " 'exp': 1666812950,\n",
       " 'iat': 1666809350,\n",
       " 'jti': '02b8d5e8-f646-4de3-b04b-5075d7befc34',\n",
       " 'email': 'aimee@developmentseed.org'}"
      ]
     },
     "execution_count": 5,
     "metadata": {},
     "output_type": "execute_result"
    }
   ],
   "source": [
    "# Examine the ID Token\n",
    "jwt.decode(client.id_token, options={\"verify_signature\": False})"
   ]
  },
  {
   "cell_type": "code",
   "execution_count": 8,
   "id": "595e0300",
   "metadata": {},
   "outputs": [],
   "source": [
    "# Fetch AWS Credentials\n",
    "creds = client.get_aws_credentials()"
   ]
  },
  {
   "cell_type": "code",
   "execution_count": 9,
   "id": "bccae079",
   "metadata": {},
   "outputs": [],
   "source": [
    "import boto3\n",
    "s3 = boto3.client(\n",
    "    \"s3\",\n",
    "    aws_access_key_id=creds[\"AccessKeyId\"],\n",
    "    aws_secret_access_key=creds[\"SecretKey\"],\n",
    "    aws_session_token=creds[\"SessionToken\"],\n",
    ")\n",
    "\n",
    "bucket = \"veda-data-store-dev\"\n",
    "key = \"example-file.txt\""
   ]
  },
  {
   "cell_type": "code",
   "execution_count": 10,
   "id": "9051c77d",
   "metadata": {},
   "outputs": [
    {
     "name": "stdout",
     "output_type": "stream",
     "text": [
      "✅ Able to list objects in bucket\n"
     ]
    }
   ],
   "source": [
    "try:\n",
    "    # List objects in bucket\n",
    "    s3.list_objects_v2(\n",
    "        Bucket=bucket,\n",
    "    )\n",
    "    print(f\"✅ Able to list objects in bucket\")\n",
    "except Exception as err:\n",
    "    print(f\"❌ Failed to list objects in bucket, {err}\")"
   ]
  },
  {
   "cell_type": "code",
   "execution_count": 11,
   "id": "3051551b",
   "metadata": {},
   "outputs": [
    {
     "name": "stdout",
     "output_type": "stream",
     "text": [
      "✅ Able to write object to bucket\n"
     ]
    }
   ],
   "source": [
    "try:\n",
    "    # Write to bucket\n",
    "    s3.put_object(\n",
    "        Bucket=bucket,\n",
    "        Key=key,\n",
    "        Body=\"🚀\",\n",
    "    )\n",
    "    print(f\"✅ Able to write object to bucket\")\n",
    "except Exception as err:\n",
    "    print(f\"❌ Failed to write object to bucket, {err}\")"
   ]
  },
  {
   "cell_type": "code",
   "execution_count": 12,
   "id": "f5227d7f",
   "metadata": {},
   "outputs": [
    {
     "name": "stdout",
     "output_type": "stream",
     "text": [
      "✅ Able to read object from bucket\n"
     ]
    }
   ],
   "source": [
    "try:\n",
    "    # Read from bucket\n",
    "    s3.get_object(\n",
    "        Bucket=bucket,\n",
    "        Key=key,\n",
    "    )\n",
    "    print(f\"✅ Able to read object from bucket\")\n",
    "except Exception as err:\n",
    "    print(f\"❌ Failed to read object from bucket, {err}\")"
   ]
  }
 ],
 "metadata": {
  "kernelspec": {
   "display_name": "Python 3 (ipykernel)",
   "language": "python",
   "name": "python3"
  },
  "language_info": {
   "codemirror_mode": {
    "name": "ipython",
    "version": 3
   },
   "file_extension": ".py",
   "mimetype": "text/x-python",
   "name": "python",
   "nbconvert_exporter": "python",
   "pygments_lexer": "ipython3",
   "version": "3.9.7"
  }
 },
 "nbformat": 4,
 "nbformat_minor": 5
}
